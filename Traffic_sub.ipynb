{
 "cells": [
  {
   "cell_type": "code",
   "execution_count": 1,
   "metadata": {},
   "outputs": [],
   "source": [
    "%matplotlib inline\n",
    "import pandas as pd\n",
    "import numpy as np\n",
    "import matplotlib.pyplot as plt\n",
    "import matplotlib as mpl\n",
    "import seaborn as sns"
   ]
  },
  {
   "cell_type": "code",
   "execution_count": 2,
   "metadata": {},
   "outputs": [],
   "source": [
    "train_data = pd.read_csv('C:/6G2/train.csv')"
   ]
  },
  {
   "cell_type": "code",
   "execution_count": 3,
   "metadata": {},
   "outputs": [
    {
     "data": {
      "text/html": [
       "<div>\n",
       "<style scoped>\n",
       "    .dataframe tbody tr th:only-of-type {\n",
       "        vertical-align: middle;\n",
       "    }\n",
       "\n",
       "    .dataframe tbody tr th {\n",
       "        vertical-align: top;\n",
       "    }\n",
       "\n",
       "    .dataframe thead th {\n",
       "        text-align: right;\n",
       "    }\n",
       "</style>\n",
       "<table border=\"1\" class=\"dataframe\">\n",
       "  <thead>\n",
       "    <tr style=\"text-align: right;\">\n",
       "      <th></th>\n",
       "      <th>Date</th>\n",
       "      <th>Hour</th>\n",
       "      <th>CellName</th>\n",
       "      <th>Traffic</th>\n",
       "    </tr>\n",
       "  </thead>\n",
       "  <tbody>\n",
       "    <tr>\n",
       "      <th>0</th>\n",
       "      <td>10/23/2017 0:00</td>\n",
       "      <td>7</td>\n",
       "      <td>Cell_001803</td>\n",
       "      <td>15.13867</td>\n",
       "    </tr>\n",
       "    <tr>\n",
       "      <th>1</th>\n",
       "      <td>10/23/2017 0:00</td>\n",
       "      <td>2</td>\n",
       "      <td>Cell_002303</td>\n",
       "      <td>2.05516</td>\n",
       "    </tr>\n",
       "    <tr>\n",
       "      <th>2</th>\n",
       "      <td>10/23/2017 0:00</td>\n",
       "      <td>7</td>\n",
       "      <td>Cell_004083</td>\n",
       "      <td>71.55308</td>\n",
       "    </tr>\n",
       "    <tr>\n",
       "      <th>3</th>\n",
       "      <td>10/23/2017 0:00</td>\n",
       "      <td>0</td>\n",
       "      <td>Cell_003781</td>\n",
       "      <td>557.98491</td>\n",
       "    </tr>\n",
       "    <tr>\n",
       "      <th>4</th>\n",
       "      <td>10/23/2017 0:00</td>\n",
       "      <td>3</td>\n",
       "      <td>Cell_000112</td>\n",
       "      <td>0.98166</td>\n",
       "    </tr>\n",
       "  </tbody>\n",
       "</table>\n",
       "</div>"
      ],
      "text/plain": [
       "              Date  Hour     CellName    Traffic\n",
       "0  10/23/2017 0:00     7  Cell_001803   15.13867\n",
       "1  10/23/2017 0:00     2  Cell_002303    2.05516\n",
       "2  10/23/2017 0:00     7  Cell_004083   71.55308\n",
       "3  10/23/2017 0:00     0  Cell_003781  557.98491\n",
       "4  10/23/2017 0:00     3  Cell_000112    0.98166"
      ]
     },
     "execution_count": 3,
     "metadata": {},
     "output_type": "execute_result"
    }
   ],
   "source": [
    "train_data.head(5)"
   ]
  },
  {
   "cell_type": "code",
   "execution_count": 4,
   "metadata": {},
   "outputs": [],
   "source": [
    "train_data.head(5).to_json('data_before')"
   ]
  },
  {
   "cell_type": "code",
   "execution_count": 5,
   "metadata": {},
   "outputs": [
    {
     "data": {
      "text/plain": [
       "(497544, 4)"
      ]
     },
     "execution_count": 5,
     "metadata": {},
     "output_type": "execute_result"
    }
   ],
   "source": [
    "train_data.shape"
   ]
  },
  {
   "cell_type": "code",
   "execution_count": 6,
   "metadata": {},
   "outputs": [
    {
     "data": {
      "text/plain": [
       "Date        False\n",
       "Hour        False\n",
       "CellName    False\n",
       "Traffic     False\n",
       "dtype: bool"
      ]
     },
     "execution_count": 6,
     "metadata": {},
     "output_type": "execute_result"
    }
   ],
   "source": [
    "train_data.isnull().any()"
   ]
  },
  {
   "cell_type": "markdown",
   "metadata": {},
   "source": [
    "## Charts of traffic versus cell and traffic versus time of day "
   ]
  },
  {
   "cell_type": "code",
   "execution_count": 11,
   "metadata": {},
   "outputs": [],
   "source": [
    "traff_SpecificCell = {}"
   ]
  },
  {
   "cell_type": "code",
   "execution_count": 12,
   "metadata": {},
   "outputs": [],
   "source": [
    "for cell, traff in zip(train_data['CellName'], train_data['Traffic']):\n",
    "    if cell in traff_SpecificCell:\n",
    "        traff_SpecificCell[cell] += traff\n",
    "    else:\n",
    "        traff_SpecificCell[cell] = traff"
   ]
  },
  {
   "cell_type": "code",
   "execution_count": 14,
   "metadata": {},
   "outputs": [
    {
     "data": {
      "image/png": "[encoded data removed]",
      "text/plain": [
       "<Figure size 2160x2016 with 1 Axes>"
      ]
     },
     "metadata": {
      "needs_background": "light"
     },
     "output_type": "display_data"
    }
   ],
   "source": [
    "specCell = []\n",
    "specTraff = []\n",
    "\n",
    "for cell in traff_SpecificCell:\n",
    "    specCell.append(cell)\n",
    "    specTraff.append(traff_SpecificCell[cell])\n",
    "    \n",
    "min_traffic, max_traffic = min(specTraff), max(specTraff)  \n",
    "\n",
    "position = np.arange(len(specCell))\n",
    "\n",
    "fig, ax = plt.subplots()\n",
    "\n",
    "barh = ax.barh(position, specTraff, color = '#7FC2C2')\n",
    "ax.set_yticks(position)\n",
    "ax.grid()\n",
    "labels = ax.set_yticklabels(specCell, fontsize = 18, color = 'black', verticalalignment = 'center')\n",
    "\n",
    "ten_percent = int(len(specCell) * 0.1)\n",
    "small_traffic, big_traffic = [], []\n",
    "sort_traff = sorted(specTraff)\n",
    "sort_traff = [sort_traff[ten_percent], sort_traff[-ten_percent]]\n",
    "for i in range(len(specTraff)):\n",
    "    if specTraff[i] < sort_traff[0]:\n",
    "        small_traffic.append(i)\n",
    "    elif specTraff[i] >= sort_traff[1]:\n",
    "        big_traffic.append(i)\n",
    "\n",
    "for elemS, elemB in zip(small_traffic, big_traffic):\n",
    "    labels[elemS].set_bbox({'facecolor':'#E1774B'})\n",
    "    barh[elemS].set_facecolor('#E1774B') \n",
    "    labels[elemB].set_bbox({'facecolor':'#F4DB60'})\n",
    "    barh[elemB].set_facecolor('#F4DB60') \n",
    "    \n",
    "fig.set_figwidth(30)\n",
    "fig.set_figheight(28)\n",
    "plt.title('Traffic on the cell for the entire period of time',  fontsize=30)\n",
    "plt.xlabel(\"Traffic in Mb\", fontsize = 30)\n",
    "plt.xticks(fontsize = 30)\n",
    "plt.yticks(fontsize = 20)\n",
    "handle1 = mpl.lines.Line2D([], [], c='#F4DB60', linewidth = 10)\n",
    "handle2 = mpl.lines.Line2D([], [], c='#E1774B', linewidth = 10)\n",
    "plt.legend(handles=[handle1, handle2], labels=['Cells with the most amount of traffic', 'Cells with the smallest amount of traffic'], prop={'size': 30})\n",
    "plt.show()\n",
    "fig.savefig('Traffic on the cells.svg')\n",
    "fig.savefig('Traffic on the cells.png')"
   ]
  },
  {
   "cell_type": "code",
   "execution_count": 15,
   "metadata": {},
   "outputs": [],
   "source": [
    "lowest_traff_SpecificTime = {}\n",
    "highest_traff_SpecificTime = {}\n",
    "mean_traff_SpecififcTime = {}\n",
    "lowest_cell = ('Cell_007372', 'Cell_000821', 'Cell_006652', 'Cell_001962', 'Cell_000462')\n",
    "highest_cell = ('Cell_006651', 'Cell_004072', 'Cell_001791', 'Cell_003793', 'Cell_006653')"
   ]
  },
  {
   "cell_type": "code",
   "execution_count": 16,
   "metadata": {},
   "outputs": [],
   "source": [
    "for cell, time, traff in zip(train_data['CellName'], train_data['Hour'], train_data['Traffic']):\n",
    "    if (time in lowest_traff_SpecificTime) and (cell in lowest_cell):\n",
    "        lowest_traff_SpecificTime[time] += traff\n",
    "    elif (time not in lowest_traff_SpecificTime) and (cell in lowest_cell):\n",
    "        lowest_traff_SpecificTime[time] = traff\n",
    "    if (time in highest_traff_SpecificTime) and (cell in highest_cell):\n",
    "        highest_traff_SpecificTime[time] += traff\n",
    "    elif (time not in highest_traff_SpecificTime) and (cell in highest_cell):\n",
    "        highest_traff_SpecificTime[time] = traff\n",
    "    if (time in mean_traff_SpecififcTime) and (cell not in highest_cell) and (cell not in lowest_cell):\n",
    "        mean_traff_SpecififcTime[time] += traff\n",
    "    elif (time not in mean_traff_SpecififcTime) and (cell not in highest_cell) and (cell not in lowest_cell):\n",
    "        mean_traff_SpecififcTime[time] = traff"
   ]
  },
  {
   "cell_type": "code",
   "execution_count": 17,
   "metadata": {},
   "outputs": [],
   "source": [
    "low_traff = np.array([])\n",
    "high_traff = np.array([])\n",
    "mean_traff = np.array([])\n",
    "for i in range(24):\n",
    "    low_traff = np.append(low_traff, [lowest_traff_SpecificTime.get(i)])\n",
    "    high_traff = np.append(high_traff, [highest_traff_SpecificTime.get(i)])\n",
    "    mean_traff = np.append(mean_traff, [mean_traff_SpecififcTime.get(i)])"
   ]
  },
  {
   "cell_type": "code",
   "execution_count": 18,
   "metadata": {},
   "outputs": [
    {
     "data": {
      "image/png": "[encoded data removed]",
      "text/plain": [
       "<Figure size 864x720 with 1 Axes>"
      ]
     },
     "metadata": {
      "needs_background": "light"
     },
     "output_type": "display_data"
    }
   ],
   "source": [
    "fig, ax = plt.subplots()\n",
    "\n",
    "ax.plot(range(24), low_traff, c = '#E1774B', label = 'Cells with the smallest amount of traffic')\n",
    "ax.plot(range(24), high_traff, c = '#F4DB60', label = 'Cells with the most amount of traffic')\n",
    "ax.grid()\n",
    "ax.legend(fontsize = 15)\n",
    "\n",
    "fig.set_figwidth(12)\n",
    "fig.set_figheight(10)\n",
    "\n",
    "plt.title('Traffic distribution by hours', fontsize=20)\n",
    "plt.xlabel('Hour', fontsize = 15)\n",
    "plt.ylabel('Traffic in Mb', fontsize=15)\n",
    "plt.xticks(np.arange(0, 24, 1), fontsize = 10)\n",
    "fig.savefig('Traffic distribution by hours.svg')\n",
    "fig.savefig('Traffic distribution by hours.png')"
   ]
  },
  {
   "cell_type": "markdown",
   "metadata": {},
   "source": [
    "## Data preprocessing"
   ]
  },
  {
   "cell_type": "code",
   "execution_count": 19,
   "metadata": {},
   "outputs": [],
   "source": [
    "train_data['Month'] = train_data.Date.str[:train_data.Date.str.find('/')[0]]\n",
    "train_data['Day'] = train_data.Date.str[train_data.Date.str.find('/')[0]+1:train_data.Date.str.rfind('/')[0]]\n",
    "train_data['Year'] = train_data.Date.str[train_data.Date.str.rfind('/')[0]+1:train_data.Date.str.rfind('/')[0]+5]"
   ]
  },
  {
   "cell_type": "code",
   "execution_count": 20,
   "metadata": {},
   "outputs": [
    {
     "data": {
      "text/html": [
       "<div>\n",
       "<style scoped>\n",
       "    .dataframe tbody tr th:only-of-type {\n",
       "        vertical-align: middle;\n",
       "    }\n",
       "\n",
       "    .dataframe tbody tr th {\n",
       "        vertical-align: top;\n",
       "    }\n",
       "\n",
       "    .dataframe thead th {\n",
       "        text-align: right;\n",
       "    }\n",
       "</style>\n",
       "<table border=\"1\" class=\"dataframe\">\n",
       "  <thead>\n",
       "    <tr style=\"text-align: right;\">\n",
       "      <th></th>\n",
       "      <th>Date</th>\n",
       "      <th>Hour</th>\n",
       "      <th>CellName</th>\n",
       "      <th>Traffic</th>\n",
       "      <th>Month</th>\n",
       "      <th>Day</th>\n",
       "      <th>Year</th>\n",
       "    </tr>\n",
       "  </thead>\n",
       "  <tbody>\n",
       "    <tr>\n",
       "      <th>0</th>\n",
       "      <td>10/23/2017 0:00</td>\n",
       "      <td>7</td>\n",
       "      <td>Cell_001803</td>\n",
       "      <td>15.13867</td>\n",
       "      <td>10</td>\n",
       "      <td>23</td>\n",
       "      <td>2017</td>\n",
       "    </tr>\n",
       "    <tr>\n",
       "      <th>1</th>\n",
       "      <td>10/23/2017 0:00</td>\n",
       "      <td>2</td>\n",
       "      <td>Cell_002303</td>\n",
       "      <td>2.05516</td>\n",
       "      <td>10</td>\n",
       "      <td>23</td>\n",
       "      <td>2017</td>\n",
       "    </tr>\n",
       "    <tr>\n",
       "      <th>2</th>\n",
       "      <td>10/23/2017 0:00</td>\n",
       "      <td>7</td>\n",
       "      <td>Cell_004083</td>\n",
       "      <td>71.55308</td>\n",
       "      <td>10</td>\n",
       "      <td>23</td>\n",
       "      <td>2017</td>\n",
       "    </tr>\n",
       "    <tr>\n",
       "      <th>3</th>\n",
       "      <td>10/23/2017 0:00</td>\n",
       "      <td>0</td>\n",
       "      <td>Cell_003781</td>\n",
       "      <td>557.98491</td>\n",
       "      <td>10</td>\n",
       "      <td>23</td>\n",
       "      <td>2017</td>\n",
       "    </tr>\n",
       "    <tr>\n",
       "      <th>4</th>\n",
       "      <td>10/23/2017 0:00</td>\n",
       "      <td>3</td>\n",
       "      <td>Cell_000112</td>\n",
       "      <td>0.98166</td>\n",
       "      <td>10</td>\n",
       "      <td>23</td>\n",
       "      <td>2017</td>\n",
       "    </tr>\n",
       "  </tbody>\n",
       "</table>\n",
       "</div>"
      ],
      "text/plain": [
       "              Date  Hour     CellName    Traffic Month Day  Year\n",
       "0  10/23/2017 0:00     7  Cell_001803   15.13867    10  23  2017\n",
       "1  10/23/2017 0:00     2  Cell_002303    2.05516    10  23  2017\n",
       "2  10/23/2017 0:00     7  Cell_004083   71.55308    10  23  2017\n",
       "3  10/23/2017 0:00     0  Cell_003781  557.98491    10  23  2017\n",
       "4  10/23/2017 0:00     3  Cell_000112    0.98166    10  23  2017"
      ]
     },
     "execution_count": 20,
     "metadata": {},
     "output_type": "execute_result"
    }
   ],
   "source": [
    "train_data.head(5)"
   ]
  },
  {
   "cell_type": "code",
   "execution_count": 21,
   "metadata": {},
   "outputs": [
    {
     "data": {
      "text/plain": [
       "array(['2017', '017 ', '18 0', '018 ', '2018'], dtype=object)"
      ]
     },
     "execution_count": 21,
     "metadata": {},
     "output_type": "execute_result"
    }
   ],
   "source": [
    "train_data.Year.unique()"
   ]
  },
  {
   "cell_type": "code",
   "execution_count": 22,
   "metadata": {},
   "outputs": [],
   "source": [
    "train_data.Year.replace('017 ', '2017', inplace=True)\n",
    "train_data.Year.replace('18 0', '2018', inplace=True)\n",
    "train_data.Year.replace('018 ', '2018', inplace=True)"
   ]
  },
  {
   "cell_type": "code",
   "execution_count": 23,
   "metadata": {},
   "outputs": [
    {
     "data": {
      "text/plain": [
       "array(['2017', '2018'], dtype=object)"
      ]
     },
     "execution_count": 23,
     "metadata": {},
     "output_type": "execute_result"
    }
   ],
   "source": [
    "train_data.Year.unique()"
   ]
  },
  {
   "cell_type": "code",
   "execution_count": 24,
   "metadata": {},
   "outputs": [],
   "source": [
    "train_data.Year.replace('2017', 2017, inplace=True)\n",
    "train_data.Year.replace('2018', 2018, inplace=True)"
   ]
  },
  {
   "cell_type": "code",
   "execution_count": 25,
   "metadata": {},
   "outputs": [
    {
     "data": {
      "text/plain": [
       "array([2017, 2018], dtype=int64)"
      ]
     },
     "execution_count": 25,
     "metadata": {},
     "output_type": "execute_result"
    }
   ],
   "source": [
    "train_data.Year.unique()"
   ]
  },
  {
   "cell_type": "code",
   "execution_count": 26,
   "metadata": {},
   "outputs": [
    {
     "data": {
      "text/plain": [
       "array(['10', '11', '12', '1/', '2/', '3/', '4/', '5/', '6/', '7/', '8/',\n",
       "       '9/'], dtype=object)"
      ]
     },
     "execution_count": 26,
     "metadata": {},
     "output_type": "execute_result"
    }
   ],
   "source": [
    "train_data.Month.unique()"
   ]
  },
  {
   "cell_type": "code",
   "execution_count": 27,
   "metadata": {},
   "outputs": [
    {
     "data": {
      "text/plain": [
       "array(['1/1/2018 0:00', '1/2/2018 0:00', '1/3/2018 0:00', '1/4/2018 0:00',\n",
       "       '1/5/2018 0:00', '1/6/2018 0:00', '1/7/2018 0:00', '1/8/2018 0:00',\n",
       "       '1/9/2018 0:00', '1/10/2018 0:00', '1/11/2018 0:00',\n",
       "       '1/12/2018 0:00', '1/13/2018 0:00', '1/14/2018 0:00',\n",
       "       '1/15/2018 0:00', '1/16/2018 0:00', '1/17/2018 0:00',\n",
       "       '1/18/2018 0:00', '1/19/2018 0:00', '1/20/2018 0:00',\n",
       "       '1/21/2018 0:00', '1/22/2018 0:00', '1/23/2018 0:00',\n",
       "       '1/24/2018 0:00', '1/25/2018 0:00', '1/26/2018 0:00',\n",
       "       '1/27/2018 0:00', '1/28/2018 0:00', '1/29/2018 0:00',\n",
       "       '1/30/2018 0:00', '1/31/2018 0:00'], dtype=object)"
      ]
     },
     "execution_count": 27,
     "metadata": {},
     "output_type": "execute_result"
    }
   ],
   "source": [
    "train_data.Date[train_data.Month == '1/'].unique()"
   ]
  },
  {
   "cell_type": "code",
   "execution_count": 28,
   "metadata": {},
   "outputs": [],
   "source": [
    "for i in range(1, 10):\n",
    "    train_data.Month.replace(str(i)+'/', str(i), inplace=True)"
   ]
  },
  {
   "cell_type": "code",
   "execution_count": 29,
   "metadata": {},
   "outputs": [
    {
     "data": {
      "text/plain": [
       "array(['10', '11', '12', '1', '2', '3', '4', '5', '6', '7', '8', '9'],\n",
       "      dtype=object)"
      ]
     },
     "execution_count": 29,
     "metadata": {},
     "output_type": "execute_result"
    }
   ],
   "source": [
    "train_data.Month.unique()"
   ]
  },
  {
   "cell_type": "code",
   "execution_count": 30,
   "metadata": {},
   "outputs": [],
   "source": [
    "for i in range(1, 13):\n",
    "    train_data.Month.replace(str(i), i, inplace=True)"
   ]
  },
  {
   "cell_type": "code",
   "execution_count": 31,
   "metadata": {},
   "outputs": [
    {
     "data": {
      "text/plain": [
       "array([10, 11, 12,  1,  2,  3,  4,  5,  6,  7,  8,  9], dtype=int64)"
      ]
     },
     "execution_count": 31,
     "metadata": {},
     "output_type": "execute_result"
    }
   ],
   "source": [
    "train_data.Month.unique()"
   ]
  },
  {
   "cell_type": "code",
   "execution_count": 32,
   "metadata": {},
   "outputs": [
    {
     "data": {
      "text/plain": [
       "array(['23', '24', '25', '26', '27', '28', '29', '30', '31', '1/', '2/',\n",
       "       '3/', '4/', '5/', '6/', '7/', '8/', '9/', '10', '11', '12', '13',\n",
       "       '14', '15', '16', '17', '18', '19', '20', '21', '22', '/2', '0/'],\n",
       "      dtype=object)"
      ]
     },
     "execution_count": 32,
     "metadata": {},
     "output_type": "execute_result"
    }
   ],
   "source": [
    "train_data.Day.unique()"
   ]
  },
  {
   "cell_type": "code",
   "execution_count": 33,
   "metadata": {},
   "outputs": [
    {
     "name": "stderr",
     "output_type": "stream",
     "text": [
      "C:\\Users\\Albert\\Anaconda3\\lib\\site-packages\\ipykernel_launcher.py:2: SettingWithCopyWarning: \n",
      "A value is trying to be set on a copy of a slice from a DataFrame\n",
      "\n",
      "See the caveats in the documentation: https://pandas.pydata.org/pandas-docs/stable/user_guide/indexing.html#returning-a-view-versus-a-copy\n",
      "  \n",
      "C:\\Users\\Albert\\Anaconda3\\lib\\site-packages\\ipykernel_launcher.py:3: SettingWithCopyWarning: \n",
      "A value is trying to be set on a copy of a slice from a DataFrame\n",
      "\n",
      "See the caveats in the documentation: https://pandas.pydata.org/pandas-docs/stable/user_guide/indexing.html#returning-a-view-versus-a-copy\n",
      "  This is separate from the ipykernel package so we can avoid doing imports until\n"
     ]
    }
   ],
   "source": [
    "for i in range(1, 10):\n",
    "    train_data.Day[train_data.Date.str[2:5] == '/' + str(i) + '/'] = train_data.Date.str[3]\n",
    "    train_data.Day[train_data.Day == str(i) + '/'] = train_data.Date.str[2:4]"
   ]
  },
  {
   "cell_type": "code",
   "execution_count": 34,
   "metadata": {},
   "outputs": [
    {
     "data": {
      "text/plain": [
       "array(['23', '24', '25', '26', '27', '28', '29', '30', '31', '1', '2',\n",
       "       '3', '4', '5', '6', '7', '8', '9', '10', '11', '12', '13', '14',\n",
       "       '15', '16', '17', '18', '19', '20', '21', '22', '/2', '0/'],\n",
       "      dtype=object)"
      ]
     },
     "execution_count": 34,
     "metadata": {},
     "output_type": "execute_result"
    }
   ],
   "source": [
    "train_data.Day.unique()"
   ]
  },
  {
   "cell_type": "code",
   "execution_count": 35,
   "metadata": {},
   "outputs": [
    {
     "name": "stdout",
     "output_type": "stream",
     "text": [
      "['1/1/2018 0:00' '1/2/2018 0:00' '1/3/2018 0:00' '1/4/2018 0:00'\n",
      " '1/5/2018 0:00' '1/6/2018 0:00' '1/7/2018 0:00' '1/8/2018 0:00'\n",
      " '1/9/2018 0:00' '2/1/2018 0:00' '2/2/2018 0:00' '2/3/2018 0:00'\n",
      " '2/4/2018 0:00' '2/5/2018 0:00' '2/6/2018 0:00' '2/7/2018 0:00'\n",
      " '2/8/2018 0:00' '2/9/2018 0:00' '3/1/2018 0:00' '3/2/2018 0:00'\n",
      " '3/3/2018 0:00' '3/4/2018 0:00' '3/5/2018 0:00' '3/6/2018 0:00'\n",
      " '3/7/2018 0:00' '3/8/2018 0:00' '3/9/2018 0:00' '4/1/2018 0:00'\n",
      " '4/2/2018 0:00' '4/3/2018 0:00' '4/4/2018 0:00' '4/5/2018 0:00'\n",
      " '4/6/2018 0:00' '4/7/2018 0:00' '4/8/2018 0:00' '4/9/2018 0:00'\n",
      " '5/1/2018 0:00' '5/2/2018 0:00' '5/3/2018 0:00' '5/4/2018 0:00'\n",
      " '5/5/2018 0:00' '5/6/2018 0:00' '5/7/2018 0:00' '5/8/2018 0:00'\n",
      " '5/9/2018 0:00' '6/1/2018 0:00' '6/2/2018 0:00' '6/3/2018 0:00'\n",
      " '6/4/2018 0:00' '6/5/2018 0:00' '6/6/2018 0:00' '6/7/2018 0:00'\n",
      " '6/8/2018 0:00' '6/9/2018 0:00' '7/1/2018 0:00' '7/2/2018 0:00'\n",
      " '7/3/2018 0:00' '7/4/2018 0:00' '7/5/2018 0:00' '7/6/2018 0:00'\n",
      " '7/7/2018 0:00' '7/8/2018 0:00' '7/9/2018 0:00' '8/1/2018 0:00'\n",
      " '8/2/2018 0:00' '8/3/2018 0:00' '8/4/2018 0:00' '8/5/2018 0:00'\n",
      " '8/6/2018 0:00' '8/7/2018 0:00' '8/8/2018 0:00' '8/9/2018 0:00'\n",
      " '9/1/2018 0:00' '9/2/2018 0:00' '9/3/2018 0:00' '9/4/2018 0:00'\n",
      " '9/5/2018 0:00' '9/6/2018 0:00' '9/7/2018 0:00' '9/8/2018 0:00'\n",
      " '9/9/2018 0:00']\n",
      "['1/10/2018 0:00' '1/20/2018 0:00' '1/30/2018 0:00' '2/10/2018 0:00'\n",
      " '2/20/2018 0:00' '3/10/2018 0:00' '3/20/2018 0:00' '3/30/2018 0:00'\n",
      " '4/10/2018 0:00' '4/20/2018 0:00' '4/30/2018 0:00' '5/10/2018 0:00'\n",
      " '5/20/2018 0:00' '5/30/2018 0:00' '6/10/2018 0:00' '6/20/2018 0:00'\n",
      " '6/30/2018 0:00' '7/10/2018 0:00' '7/20/2018 0:00' '7/30/2018 0:00'\n",
      " '8/10/2018 0:00' '8/20/2018 0:00' '8/30/2018 0:00' '9/10/2018 0:00'\n",
      " '9/20/2018 0:00' '9/30/2018 0:00']\n"
     ]
    }
   ],
   "source": [
    "print(train_data.Date[train_data.Day=='/2'].unique())\n",
    "print(train_data.Date[train_data.Day=='0/'].unique())"
   ]
  },
  {
   "cell_type": "code",
   "execution_count": 36,
   "metadata": {},
   "outputs": [
    {
     "name": "stderr",
     "output_type": "stream",
     "text": [
      "C:\\Users\\Albert\\Anaconda3\\lib\\site-packages\\ipykernel_launcher.py:1: SettingWithCopyWarning: \n",
      "A value is trying to be set on a copy of a slice from a DataFrame\n",
      "\n",
      "See the caveats in the documentation: https://pandas.pydata.org/pandas-docs/stable/user_guide/indexing.html#returning-a-view-versus-a-copy\n",
      "  \"\"\"Entry point for launching an IPython kernel.\n"
     ]
    }
   ],
   "source": [
    "train_data.Day[train_data.Day == '/2'] = train_data.Date.str[2]"
   ]
  },
  {
   "cell_type": "code",
   "execution_count": 37,
   "metadata": {},
   "outputs": [
    {
     "name": "stderr",
     "output_type": "stream",
     "text": [
      "C:\\Users\\Albert\\Anaconda3\\lib\\site-packages\\ipykernel_launcher.py:1: SettingWithCopyWarning: \n",
      "A value is trying to be set on a copy of a slice from a DataFrame\n",
      "\n",
      "See the caveats in the documentation: https://pandas.pydata.org/pandas-docs/stable/user_guide/indexing.html#returning-a-view-versus-a-copy\n",
      "  \"\"\"Entry point for launching an IPython kernel.\n"
     ]
    }
   ],
   "source": [
    "train_data.Day[train_data.Day == '0/'] = train_data.Date.str[2:4]"
   ]
  },
  {
   "cell_type": "code",
   "execution_count": 38,
   "metadata": {},
   "outputs": [
    {
     "data": {
      "text/plain": [
       "array(['23', '24', '25', '26', '27', '28', '29', '30', '31', '1', '2',\n",
       "       '3', '4', '5', '6', '7', '8', '9', '10', '11', '12', '13', '14',\n",
       "       '15', '16', '17', '18', '19', '20', '21', '22'], dtype=object)"
      ]
     },
     "execution_count": 38,
     "metadata": {},
     "output_type": "execute_result"
    }
   ],
   "source": [
    "train_data.Day.unique()"
   ]
  },
  {
   "cell_type": "code",
   "execution_count": 39,
   "metadata": {},
   "outputs": [],
   "source": [
    "for i in range(32):\n",
    "    train_data.Day.replace(str(i), i, inplace=True)"
   ]
  },
  {
   "cell_type": "code",
   "execution_count": 40,
   "metadata": {},
   "outputs": [
    {
     "data": {
      "text/plain": [
       "array([23, 24, 25, 26, 27, 28, 29, 30, 31,  1,  2,  3,  4,  5,  6,  7,  8,\n",
       "        9, 10, 11, 12, 13, 14, 15, 16, 17, 18, 19, 20, 21, 22],\n",
       "      dtype=int64)"
      ]
     },
     "execution_count": 40,
     "metadata": {},
     "output_type": "execute_result"
    }
   ],
   "source": [
    "train_data.Day.unique()"
   ]
  },
  {
   "cell_type": "code",
   "execution_count": 41,
   "metadata": {},
   "outputs": [],
   "source": [
    "train_data.drop(columns=['Date'], inplace=True)"
   ]
  },
  {
   "cell_type": "code",
   "execution_count": 42,
   "metadata": {},
   "outputs": [
    {
     "data": {
      "text/html": [
       "<div>\n",
       "<style scoped>\n",
       "    .dataframe tbody tr th:only-of-type {\n",
       "        vertical-align: middle;\n",
       "    }\n",
       "\n",
       "    .dataframe tbody tr th {\n",
       "        vertical-align: top;\n",
       "    }\n",
       "\n",
       "    .dataframe thead th {\n",
       "        text-align: right;\n",
       "    }\n",
       "</style>\n",
       "<table border=\"1\" class=\"dataframe\">\n",
       "  <thead>\n",
       "    <tr style=\"text-align: right;\">\n",
       "      <th></th>\n",
       "      <th>Hour</th>\n",
       "      <th>CellName</th>\n",
       "      <th>Traffic</th>\n",
       "      <th>Month</th>\n",
       "      <th>Day</th>\n",
       "      <th>Year</th>\n",
       "    </tr>\n",
       "  </thead>\n",
       "  <tbody>\n",
       "    <tr>\n",
       "      <th>0</th>\n",
       "      <td>7</td>\n",
       "      <td>Cell_001803</td>\n",
       "      <td>15.13867</td>\n",
       "      <td>10</td>\n",
       "      <td>23</td>\n",
       "      <td>2017</td>\n",
       "    </tr>\n",
       "    <tr>\n",
       "      <th>1</th>\n",
       "      <td>2</td>\n",
       "      <td>Cell_002303</td>\n",
       "      <td>2.05516</td>\n",
       "      <td>10</td>\n",
       "      <td>23</td>\n",
       "      <td>2017</td>\n",
       "    </tr>\n",
       "    <tr>\n",
       "      <th>2</th>\n",
       "      <td>7</td>\n",
       "      <td>Cell_004083</td>\n",
       "      <td>71.55308</td>\n",
       "      <td>10</td>\n",
       "      <td>23</td>\n",
       "      <td>2017</td>\n",
       "    </tr>\n",
       "    <tr>\n",
       "      <th>3</th>\n",
       "      <td>0</td>\n",
       "      <td>Cell_003781</td>\n",
       "      <td>557.98491</td>\n",
       "      <td>10</td>\n",
       "      <td>23</td>\n",
       "      <td>2017</td>\n",
       "    </tr>\n",
       "    <tr>\n",
       "      <th>4</th>\n",
       "      <td>3</td>\n",
       "      <td>Cell_000112</td>\n",
       "      <td>0.98166</td>\n",
       "      <td>10</td>\n",
       "      <td>23</td>\n",
       "      <td>2017</td>\n",
       "    </tr>\n",
       "  </tbody>\n",
       "</table>\n",
       "</div>"
      ],
      "text/plain": [
       "   Hour     CellName    Traffic  Month  Day  Year\n",
       "0     7  Cell_001803   15.13867     10   23  2017\n",
       "1     2  Cell_002303    2.05516     10   23  2017\n",
       "2     7  Cell_004083   71.55308     10   23  2017\n",
       "3     0  Cell_003781  557.98491     10   23  2017\n",
       "4     3  Cell_000112    0.98166     10   23  2017"
      ]
     },
     "execution_count": 42,
     "metadata": {},
     "output_type": "execute_result"
    }
   ],
   "source": [
    "train_data.head(5)"
   ]
  },
  {
   "cell_type": "markdown",
   "metadata": {},
   "source": [
    "## Correlation analysis"
   ]
  },
  {
   "cell_type": "code",
   "execution_count": 43,
   "metadata": {},
   "outputs": [],
   "source": [
    "Traffic_2017 = train_data.Traffic[train_data.Year == 2017].sum()\n",
    "Traffic_2018 = train_data.Traffic[train_data.Year == 2018].sum()"
   ]
  },
  {
   "cell_type": "code",
   "execution_count": 44,
   "metadata": {},
   "outputs": [
    {
     "data": {
      "image/png": "[encoded data removed]",
      "text/plain": [
       "<Figure size 720x576 with 1 Axes>"
      ]
     },
     "metadata": {
      "needs_background": "light"
     },
     "output_type": "display_data"
    }
   ],
   "source": [
    "fig, ax = plt.subplots()\n",
    "ax.bar(2017, Traffic_2017, color= '#7FC2C2')\n",
    "ax.bar(2018, Traffic_2018, color= '#7FC2C2')\n",
    "ax.grid()\n",
    "\n",
    "fig.set_figwidth(10)\n",
    "fig.set_figheight(8)\n",
    "plt.title('Traffic in 2017 and 2018 years', fontsize=20)\n",
    "plt.xlabel('Year', fontsize = 12)\n",
    "plt.ylabel('Traffic in Mb', fontsize=12)\n",
    "plt.xticks(np.arange(2017, 2019, 1), fontsize = 10)\n",
    "plt.yticks(np.arange(0, 2.1e8, 1e8), fontsize = 10)\n",
    "plt.show()\n",
    "fig.savefig('Traffic in 2017 and 2018 years.svg')\n",
    "fig.savefig('Traffic in 2017 and 2018 years.png')"
   ]
  },
  {
   "cell_type": "code",
   "execution_count": 45,
   "metadata": {},
   "outputs": [],
   "source": [
    "Traffic_2018part1 = train_data.Traffic[(train_data.Year == 2017) | ((train_data.Year == 2018) \n",
    "                                                                     & (train_data.Month < 5))].sum()\n",
    "Traffic_2018part2 = train_data.Traffic[(train_data.Year == 2018) & (train_data.Month >= 5)].sum()"
   ]
  },
  {
   "cell_type": "code",
   "execution_count": 46,
   "metadata": {},
   "outputs": [
    {
     "name": "stderr",
     "output_type": "stream",
     "text": [
      "C:\\Users\\Albert\\Anaconda3\\lib\\site-packages\\ipykernel_launcher.py:4: UserWarning: FixedFormatter should only be used together with FixedLocator\n",
      "  after removing the cwd from sys.path.\n"
     ]
    },
    {
     "data": {
      "image/png": "[encoded data removed]",
      "text/plain": [
       "<Figure size 576x432 with 1 Axes>"
      ]
     },
     "metadata": {
      "needs_background": "light"
     },
     "output_type": "display_data"
    }
   ],
   "source": [
    "fig, ax = plt.subplots()\n",
    "ax.bar(np.arange(2),[Traffic_2018part1, Traffic_2018part2], color= '#7FC2C2')\n",
    "ax.grid()\n",
    "ax.set_xticklabels(['10.2017-04.2018', '05.2018-10.2018'], fontsize = 13)\n",
    "\n",
    "fig.set_figwidth(8)\n",
    "fig.set_figheight(6)\n",
    "plt.title('Traffic comparison', fontsize=12)\n",
    "plt.xlabel('Year', fontsize = 12)\n",
    "plt.ylabel('Traffic in Mb', fontsize=12)\n",
    "plt.xticks(np.arange(0, 2, 1), fontsize = 10)\n",
    "plt.yticks(np.arange(0, 2.1e8, 0.5e8), fontsize = 10)\n",
    "plt.show()\n",
    "fig.savefig('Traffic comparison.svg')\n",
    "fig.savefig('Traffic comparison.png')"
   ]
  },
  {
   "cell_type": "code",
   "execution_count": 47,
   "metadata": {},
   "outputs": [],
   "source": [
    "TrafficMonth = []\n",
    "months = ['Jan', 'Feb', 'March', 'Apr', 'May', 'June', \n",
    "          'July', 'Aug', 'Sept', 'Oct', 'Nov', 'Dec'] \n",
    "\n",
    "for i in range(1, 13):\n",
    "    TrafficMonth.append(train_data.Traffic[train_data.Month == i].sum())"
   ]
  },
  {
   "cell_type": "code",
   "execution_count": 48,
   "metadata": {},
   "outputs": [
    {
     "name": "stderr",
     "output_type": "stream",
     "text": [
      "C:\\Users\\Albert\\Anaconda3\\lib\\site-packages\\ipykernel_launcher.py:4: UserWarning: FixedFormatter should only be used together with FixedLocator\n",
      "  after removing the cwd from sys.path.\n"
     ]
    },
    {
     "data": {
      "image/png": "[encoded data removed]",
      "text/plain": [
       "<Figure size 720x576 with 1 Axes>"
      ]
     },
     "metadata": {
      "needs_background": "light"
     },
     "output_type": "display_data"
    }
   ],
   "source": [
    "fig, ax = plt.subplots()\n",
    "ax.bar(np.arange(1, 13), TrafficMonth, color= '#7FC2C2')\n",
    "ax.grid()\n",
    "ax.set_xticklabels(months, fontsize = 13)\n",
    "\n",
    "fig.set_figwidth(10)\n",
    "fig.set_figheight(8)\n",
    "plt.title('Traffic distribution by months', fontsize=15)\n",
    "plt.xlabel('Month', fontsize = 12)\n",
    "plt.ylabel('Traffic in Mb', fontsize=12)\n",
    "plt.xticks(np.arange(1, 13, 1), fontsize = 10)\n",
    "plt.show()\n",
    "fig.savefig('Traffic distribution by months.svg')\n",
    "fig.savefig('Traffic distribution by months.png')"
   ]
  },
  {
   "cell_type": "code",
   "execution_count": 49,
   "metadata": {},
   "outputs": [],
   "source": [
    "TrafficDay = []\n",
    "\n",
    "for i in range(1, 32):\n",
    "    TrafficDay.append(train_data.Traffic[train_data.Day == i].sum())"
   ]
  },
  {
   "cell_type": "code",
   "execution_count": 50,
   "metadata": {},
   "outputs": [
    {
     "name": "stderr",
     "output_type": "stream",
     "text": [
      "C:\\Users\\Albert\\Anaconda3\\lib\\site-packages\\ipykernel_launcher.py:4: UserWarning: FixedFormatter should only be used together with FixedLocator\n",
      "  after removing the cwd from sys.path.\n"
     ]
    },
    {
     "data": {
      "image/png": "[encoded data removed]",
      "text/plain": [
       "<Figure size 720x576 with 1 Axes>"
      ]
     },
     "metadata": {
      "needs_background": "light"
     },
     "output_type": "display_data"
    }
   ],
   "source": [
    "fig, ax = plt.subplots()\n",
    "ax.plot(np.arange(1, 32), TrafficDay, color = '#7FC2C2')\n",
    "ax.grid()\n",
    "ax.set_xticklabels(np.arange(1, 32), fontsize = 13)\n",
    "\n",
    "fig.set_figwidth(10)\n",
    "fig.set_figheight(8)\n",
    "plt.title('Middle distribution of traffic by days', fontsize=15)\n",
    "plt.xlabel('Day', fontsize = 12)\n",
    "plt.ylabel('Traffic in Mb', fontsize=12)\n",
    "plt.xticks(np.arange(1, 32, 1), fontsize = 10)\n",
    "plt.yticks(np.arange(0, 1.1e7, 0.1e7), fontsize = 10)\n",
    "plt.show()\n",
    "fig.savefig('Middle distribution of traffic by days.svg')\n",
    "fig.savefig('Middle distribution of traffic by days.png')"
   ]
  },
  {
   "cell_type": "code",
   "execution_count": 51,
   "metadata": {
    "scrolled": true
   },
   "outputs": [
    {
     "data": {
      "text/html": [
       "<div>\n",
       "<style scoped>\n",
       "    .dataframe tbody tr th:only-of-type {\n",
       "        vertical-align: middle;\n",
       "    }\n",
       "\n",
       "    .dataframe tbody tr th {\n",
       "        vertical-align: top;\n",
       "    }\n",
       "\n",
       "    .dataframe thead th {\n",
       "        text-align: right;\n",
       "    }\n",
       "</style>\n",
       "<table border=\"1\" class=\"dataframe\">\n",
       "  <thead>\n",
       "    <tr style=\"text-align: right;\">\n",
       "      <th></th>\n",
       "      <th>Hour</th>\n",
       "      <th>CellName</th>\n",
       "      <th>Traffic</th>\n",
       "      <th>Month</th>\n",
       "      <th>Day</th>\n",
       "      <th>Year</th>\n",
       "    </tr>\n",
       "  </thead>\n",
       "  <tbody>\n",
       "    <tr>\n",
       "      <th>0</th>\n",
       "      <td>7</td>\n",
       "      <td>Cell_001803</td>\n",
       "      <td>15.13867</td>\n",
       "      <td>10</td>\n",
       "      <td>23</td>\n",
       "      <td>2017</td>\n",
       "    </tr>\n",
       "    <tr>\n",
       "      <th>1</th>\n",
       "      <td>2</td>\n",
       "      <td>Cell_002303</td>\n",
       "      <td>2.05516</td>\n",
       "      <td>10</td>\n",
       "      <td>23</td>\n",
       "      <td>2017</td>\n",
       "    </tr>\n",
       "    <tr>\n",
       "      <th>2</th>\n",
       "      <td>7</td>\n",
       "      <td>Cell_004083</td>\n",
       "      <td>71.55308</td>\n",
       "      <td>10</td>\n",
       "      <td>23</td>\n",
       "      <td>2017</td>\n",
       "    </tr>\n",
       "    <tr>\n",
       "      <th>3</th>\n",
       "      <td>0</td>\n",
       "      <td>Cell_003781</td>\n",
       "      <td>557.98491</td>\n",
       "      <td>10</td>\n",
       "      <td>23</td>\n",
       "      <td>2017</td>\n",
       "    </tr>\n",
       "    <tr>\n",
       "      <th>4</th>\n",
       "      <td>3</td>\n",
       "      <td>Cell_000112</td>\n",
       "      <td>0.98166</td>\n",
       "      <td>10</td>\n",
       "      <td>23</td>\n",
       "      <td>2017</td>\n",
       "    </tr>\n",
       "  </tbody>\n",
       "</table>\n",
       "</div>"
      ],
      "text/plain": [
       "   Hour     CellName    Traffic  Month  Day  Year\n",
       "0     7  Cell_001803   15.13867     10   23  2017\n",
       "1     2  Cell_002303    2.05516     10   23  2017\n",
       "2     7  Cell_004083   71.55308     10   23  2017\n",
       "3     0  Cell_003781  557.98491     10   23  2017\n",
       "4     3  Cell_000112    0.98166     10   23  2017"
      ]
     },
     "execution_count": 51,
     "metadata": {},
     "output_type": "execute_result"
    }
   ],
   "source": [
    "train_data.head()"
   ]
  },
  {
   "cell_type": "markdown",
   "metadata": {},
   "source": [
    "## Feature correlation "
   ]
  },
  {
   "cell_type": "code",
   "execution_count": 52,
   "metadata": {},
   "outputs": [
    {
     "data": {
      "image/png": "[encoded data removed]",
      "text/plain": [
       "<Figure size 720x576 with 2 Axes>"
      ]
     },
     "metadata": {
      "needs_background": "light"
     },
     "output_type": "display_data"
    }
   ],
   "source": [
    "fig, ax = plt.subplots()\n",
    "fig.set_figwidth(10)\n",
    "fig.set_figheight(8)\n",
    "ax = sns.heatmap(train_data.drop(columns=['CellName']).corr(), \n",
    "                 cmap=sns.color_palette(\"RdBu_r\", 1000), vmin=-1, center=0)\n",
    "plt.title('Correlation between features and target variable', fontsize=15)\n",
    "\n",
    "fig.savefig('Correlation.svg')\n",
    "fig.savefig('Correlation.png')"
   ]
  },
  {
   "cell_type": "markdown",
   "metadata": {},
   "source": [
    "## Target variable distribution "
   ]
  },
  {
   "cell_type": "code",
   "execution_count": 53,
   "metadata": {},
   "outputs": [
    {
     "data": {
      "image/png": "[encoded data removed]",
      "text/plain": [
       "<Figure size 1440x576 with 2 Axes>"
      ]
     },
     "metadata": {
      "needs_background": "light"
     },
     "output_type": "display_data"
    }
   ],
   "source": [
    "fig, ax = plt.subplots()\n",
    "fig.set_figwidth(20)\n",
    "fig.set_figheight(8)\n",
    "plt.subplot(1, 2, 1)\n",
    "plt.hist(train_data.Traffic, bins=57, color = '#7FC2C2')\n",
    "plt.title('binomial distribution of traffic', fontsize=15)\n",
    "plt.ylabel('Traffic in Mb', fontsize=15)\n",
    "\n",
    "plt.subplot(1, 2, 2)\n",
    "plt.hist(np.log1p(train_data.Traffic), bins=57, color = '#7FC2C2')\n",
    "plt.title('Normal distribution of traffic', fontsize=15)\n",
    "plt.ylabel('Traffic in Mb', fontsize=15)\n",
    "fig.savefig('Traffic distributions.svg')\n",
    "fig.savefig('Traffic distributions.png')"
   ]
  },
  {
   "cell_type": "code",
   "execution_count": 54,
   "metadata": {},
   "outputs": [],
   "source": [
    "train_data.Month = (train_data.Month - 1)/11\n",
    "train_data.Day = (train_data.Day - 1)/30\n",
    "train_data.Hour = np.sin(train_data.Hour/24)"
   ]
  },
  {
   "cell_type": "code",
   "execution_count": 55,
   "metadata": {},
   "outputs": [],
   "source": [
    "target = pd.DataFrame(train_data.Traffic)\n",
    "train_data.drop(columns='Traffic', inplace=True)"
   ]
  },
  {
   "cell_type": "code",
   "execution_count": 56,
   "metadata": {},
   "outputs": [
    {
     "data": {
      "text/html": [
       "<div>\n",
       "<style scoped>\n",
       "    .dataframe tbody tr th:only-of-type {\n",
       "        vertical-align: middle;\n",
       "    }\n",
       "\n",
       "    .dataframe tbody tr th {\n",
       "        vertical-align: top;\n",
       "    }\n",
       "\n",
       "    .dataframe thead th {\n",
       "        text-align: right;\n",
       "    }\n",
       "</style>\n",
       "<table border=\"1\" class=\"dataframe\">\n",
       "  <thead>\n",
       "    <tr style=\"text-align: right;\">\n",
       "      <th></th>\n",
       "      <th>Hour</th>\n",
       "      <th>CellName</th>\n",
       "      <th>Month</th>\n",
       "      <th>Day</th>\n",
       "      <th>Year</th>\n",
       "    </tr>\n",
       "  </thead>\n",
       "  <tbody>\n",
       "    <tr>\n",
       "      <th>0</th>\n",
       "      <td>0.287549</td>\n",
       "      <td>Cell_001803</td>\n",
       "      <td>0.818182</td>\n",
       "      <td>0.733333</td>\n",
       "      <td>2017</td>\n",
       "    </tr>\n",
       "    <tr>\n",
       "      <th>1</th>\n",
       "      <td>0.083237</td>\n",
       "      <td>Cell_002303</td>\n",
       "      <td>0.818182</td>\n",
       "      <td>0.733333</td>\n",
       "      <td>2017</td>\n",
       "    </tr>\n",
       "    <tr>\n",
       "      <th>2</th>\n",
       "      <td>0.287549</td>\n",
       "      <td>Cell_004083</td>\n",
       "      <td>0.818182</td>\n",
       "      <td>0.733333</td>\n",
       "      <td>2017</td>\n",
       "    </tr>\n",
       "    <tr>\n",
       "      <th>3</th>\n",
       "      <td>0.000000</td>\n",
       "      <td>Cell_003781</td>\n",
       "      <td>0.818182</td>\n",
       "      <td>0.733333</td>\n",
       "      <td>2017</td>\n",
       "    </tr>\n",
       "    <tr>\n",
       "      <th>4</th>\n",
       "      <td>0.124675</td>\n",
       "      <td>Cell_000112</td>\n",
       "      <td>0.818182</td>\n",
       "      <td>0.733333</td>\n",
       "      <td>2017</td>\n",
       "    </tr>\n",
       "  </tbody>\n",
       "</table>\n",
       "</div>"
      ],
      "text/plain": [
       "       Hour     CellName     Month       Day  Year\n",
       "0  0.287549  Cell_001803  0.818182  0.733333  2017\n",
       "1  0.083237  Cell_002303  0.818182  0.733333  2017\n",
       "2  0.287549  Cell_004083  0.818182  0.733333  2017\n",
       "3  0.000000  Cell_003781  0.818182  0.733333  2017\n",
       "4  0.124675  Cell_000112  0.818182  0.733333  2017"
      ]
     },
     "execution_count": 56,
     "metadata": {},
     "output_type": "execute_result"
    }
   ],
   "source": [
    "train_data.head(5)"
   ]
  },
  {
   "cell_type": "code",
   "execution_count": 57,
   "metadata": {},
   "outputs": [
    {
     "data": {
      "text/html": [
       "<div>\n",
       "<style scoped>\n",
       "    .dataframe tbody tr th:only-of-type {\n",
       "        vertical-align: middle;\n",
       "    }\n",
       "\n",
       "    .dataframe tbody tr th {\n",
       "        vertical-align: top;\n",
       "    }\n",
       "\n",
       "    .dataframe thead th {\n",
       "        text-align: right;\n",
       "    }\n",
       "</style>\n",
       "<table border=\"1\" class=\"dataframe\">\n",
       "  <thead>\n",
       "    <tr style=\"text-align: right;\">\n",
       "      <th></th>\n",
       "      <th>Traffic</th>\n",
       "    </tr>\n",
       "  </thead>\n",
       "  <tbody>\n",
       "    <tr>\n",
       "      <th>0</th>\n",
       "      <td>15.13867</td>\n",
       "    </tr>\n",
       "    <tr>\n",
       "      <th>1</th>\n",
       "      <td>2.05516</td>\n",
       "    </tr>\n",
       "    <tr>\n",
       "      <th>2</th>\n",
       "      <td>71.55308</td>\n",
       "    </tr>\n",
       "    <tr>\n",
       "      <th>3</th>\n",
       "      <td>557.98491</td>\n",
       "    </tr>\n",
       "    <tr>\n",
       "      <th>4</th>\n",
       "      <td>0.98166</td>\n",
       "    </tr>\n",
       "  </tbody>\n",
       "</table>\n",
       "</div>"
      ],
      "text/plain": [
       "     Traffic\n",
       "0   15.13867\n",
       "1    2.05516\n",
       "2   71.55308\n",
       "3  557.98491\n",
       "4    0.98166"
      ]
     },
     "execution_count": 57,
     "metadata": {},
     "output_type": "execute_result"
    }
   ],
   "source": [
    "target.head(5)"
   ]
  },
  {
   "cell_type": "code",
   "execution_count": 58,
   "metadata": {},
   "outputs": [
    {
     "name": "stdout",
     "output_type": "stream",
     "text": [
      "Linear Model data shape:  (497544, 56)\n",
      "Nonlinear Model data shape:  (497544, 57)\n"
     ]
    }
   ],
   "source": [
    "cellsFrameLin = pd.get_dummies(train_data.CellName, drop_first=True) # data for linear model (delete 1 feture)\n",
    "cellsFrameTree = pd.get_dummies(train_data.CellName) # data for nonlinear model\n",
    "Year = pd.get_dummies(train_data.Year)\n",
    "print('Linear Model data shape: ', cellsFrameLin.shape)\n",
    "print('Nonlinear Model data shape: ', cellsFrameTree.shape)"
   ]
  },
  {
   "cell_type": "code",
   "execution_count": 59,
   "metadata": {},
   "outputs": [],
   "source": [
    "train_data.drop(columns=['CellName'], inplace=True)\n",
    "train_data.drop(columns=['Year'], inplace=True)"
   ]
  },
  {
   "cell_type": "code",
   "execution_count": 60,
   "metadata": {},
   "outputs": [],
   "source": [
    "train_data_Lin = train_data\n",
    "train_data_Tree = train_data\n",
    "target_Lin = np.log1p(target.Traffic)\n",
    "target_Tree = np.log1p(target.Traffic)"
   ]
  },
  {
   "cell_type": "code",
   "execution_count": 61,
   "metadata": {},
   "outputs": [],
   "source": [
    "train_data_Lin = train_data_Lin.join(cellsFrameLin)\n",
    "train_data_Tree = train_data_Tree.join(cellsFrameTree)\n",
    "train_data_Lin = train_data_Lin.join(Year)\n",
    "train_data_Tree = train_data_Tree.join(Year)"
   ]
  },
  {
   "cell_type": "code",
   "execution_count": 62,
   "metadata": {},
   "outputs": [],
   "source": [
    "del cellsFrameLin, cellsFrameTree, Year, train_data, target"
   ]
  },
  {
   "cell_type": "code",
   "execution_count": 63,
   "metadata": {},
   "outputs": [
    {
     "data": {
      "text/html": [
       "<div>\n",
       "<style scoped>\n",
       "    .dataframe tbody tr th:only-of-type {\n",
       "        vertical-align: middle;\n",
       "    }\n",
       "\n",
       "    .dataframe tbody tr th {\n",
       "        vertical-align: top;\n",
       "    }\n",
       "\n",
       "    .dataframe thead th {\n",
       "        text-align: right;\n",
       "    }\n",
       "</style>\n",
       "<table border=\"1\" class=\"dataframe\">\n",
       "  <thead>\n",
       "    <tr style=\"text-align: right;\">\n",
       "      <th></th>\n",
       "      <th>Hour</th>\n",
       "      <th>Month</th>\n",
       "      <th>Day</th>\n",
       "      <th>Cell_000112</th>\n",
       "      <th>Cell_000113</th>\n",
       "      <th>Cell_000231</th>\n",
       "      <th>Cell_000232</th>\n",
       "      <th>Cell_000233</th>\n",
       "      <th>Cell_000461</th>\n",
       "      <th>Cell_000462</th>\n",
       "      <th>...</th>\n",
       "      <th>Cell_006662</th>\n",
       "      <th>Cell_006663</th>\n",
       "      <th>Cell_007371</th>\n",
       "      <th>Cell_007372</th>\n",
       "      <th>Cell_007373</th>\n",
       "      <th>Cell_039871</th>\n",
       "      <th>Cell_039872</th>\n",
       "      <th>Cell_039873</th>\n",
       "      <th>2017</th>\n",
       "      <th>2018</th>\n",
       "    </tr>\n",
       "  </thead>\n",
       "  <tbody>\n",
       "    <tr>\n",
       "      <th>0</th>\n",
       "      <td>0.287549</td>\n",
       "      <td>0.818182</td>\n",
       "      <td>0.733333</td>\n",
       "      <td>0</td>\n",
       "      <td>0</td>\n",
       "      <td>0</td>\n",
       "      <td>0</td>\n",
       "      <td>0</td>\n",
       "      <td>0</td>\n",
       "      <td>0</td>\n",
       "      <td>...</td>\n",
       "      <td>0</td>\n",
       "      <td>0</td>\n",
       "      <td>0</td>\n",
       "      <td>0</td>\n",
       "      <td>0</td>\n",
       "      <td>0</td>\n",
       "      <td>0</td>\n",
       "      <td>0</td>\n",
       "      <td>1</td>\n",
       "      <td>0</td>\n",
       "    </tr>\n",
       "    <tr>\n",
       "      <th>1</th>\n",
       "      <td>0.083237</td>\n",
       "      <td>0.818182</td>\n",
       "      <td>0.733333</td>\n",
       "      <td>0</td>\n",
       "      <td>0</td>\n",
       "      <td>0</td>\n",
       "      <td>0</td>\n",
       "      <td>0</td>\n",
       "      <td>0</td>\n",
       "      <td>0</td>\n",
       "      <td>...</td>\n",
       "      <td>0</td>\n",
       "      <td>0</td>\n",
       "      <td>0</td>\n",
       "      <td>0</td>\n",
       "      <td>0</td>\n",
       "      <td>0</td>\n",
       "      <td>0</td>\n",
       "      <td>0</td>\n",
       "      <td>1</td>\n",
       "      <td>0</td>\n",
       "    </tr>\n",
       "    <tr>\n",
       "      <th>2</th>\n",
       "      <td>0.287549</td>\n",
       "      <td>0.818182</td>\n",
       "      <td>0.733333</td>\n",
       "      <td>0</td>\n",
       "      <td>0</td>\n",
       "      <td>0</td>\n",
       "      <td>0</td>\n",
       "      <td>0</td>\n",
       "      <td>0</td>\n",
       "      <td>0</td>\n",
       "      <td>...</td>\n",
       "      <td>0</td>\n",
       "      <td>0</td>\n",
       "      <td>0</td>\n",
       "      <td>0</td>\n",
       "      <td>0</td>\n",
       "      <td>0</td>\n",
       "      <td>0</td>\n",
       "      <td>0</td>\n",
       "      <td>1</td>\n",
       "      <td>0</td>\n",
       "    </tr>\n",
       "    <tr>\n",
       "      <th>3</th>\n",
       "      <td>0.000000</td>\n",
       "      <td>0.818182</td>\n",
       "      <td>0.733333</td>\n",
       "      <td>0</td>\n",
       "      <td>0</td>\n",
       "      <td>0</td>\n",
       "      <td>0</td>\n",
       "      <td>0</td>\n",
       "      <td>0</td>\n",
       "      <td>0</td>\n",
       "      <td>...</td>\n",
       "      <td>0</td>\n",
       "      <td>0</td>\n",
       "      <td>0</td>\n",
       "      <td>0</td>\n",
       "      <td>0</td>\n",
       "      <td>0</td>\n",
       "      <td>0</td>\n",
       "      <td>0</td>\n",
       "      <td>1</td>\n",
       "      <td>0</td>\n",
       "    </tr>\n",
       "    <tr>\n",
       "      <th>4</th>\n",
       "      <td>0.124675</td>\n",
       "      <td>0.818182</td>\n",
       "      <td>0.733333</td>\n",
       "      <td>1</td>\n",
       "      <td>0</td>\n",
       "      <td>0</td>\n",
       "      <td>0</td>\n",
       "      <td>0</td>\n",
       "      <td>0</td>\n",
       "      <td>0</td>\n",
       "      <td>...</td>\n",
       "      <td>0</td>\n",
       "      <td>0</td>\n",
       "      <td>0</td>\n",
       "      <td>0</td>\n",
       "      <td>0</td>\n",
       "      <td>0</td>\n",
       "      <td>0</td>\n",
       "      <td>0</td>\n",
       "      <td>1</td>\n",
       "      <td>0</td>\n",
       "    </tr>\n",
       "  </tbody>\n",
       "</table>\n",
       "<p>5 rows × 61 columns</p>\n",
       "</div>"
      ],
      "text/plain": [
       "       Hour     Month       Day  Cell_000112  Cell_000113  Cell_000231  \\\n",
       "0  0.287549  0.818182  0.733333            0            0            0   \n",
       "1  0.083237  0.818182  0.733333            0            0            0   \n",
       "2  0.287549  0.818182  0.733333            0            0            0   \n",
       "3  0.000000  0.818182  0.733333            0            0            0   \n",
       "4  0.124675  0.818182  0.733333            1            0            0   \n",
       "\n",
       "   Cell_000232  Cell_000233  Cell_000461  Cell_000462  ...  Cell_006662  \\\n",
       "0            0            0            0            0  ...            0   \n",
       "1            0            0            0            0  ...            0   \n",
       "2            0            0            0            0  ...            0   \n",
       "3            0            0            0            0  ...            0   \n",
       "4            0            0            0            0  ...            0   \n",
       "\n",
       "   Cell_006663  Cell_007371  Cell_007372  Cell_007373  Cell_039871  \\\n",
       "0            0            0            0            0            0   \n",
       "1            0            0            0            0            0   \n",
       "2            0            0            0            0            0   \n",
       "3            0            0            0            0            0   \n",
       "4            0            0            0            0            0   \n",
       "\n",
       "   Cell_039872  Cell_039873  2017  2018  \n",
       "0            0            0     1     0  \n",
       "1            0            0     1     0  \n",
       "2            0            0     1     0  \n",
       "3            0            0     1     0  \n",
       "4            0            0     1     0  \n",
       "\n",
       "[5 rows x 61 columns]"
      ]
     },
     "execution_count": 63,
     "metadata": {},
     "output_type": "execute_result"
    }
   ],
   "source": [
    "train_data_Lin.head()"
   ]
  },
  {
   "cell_type": "code",
   "execution_count": 64,
   "metadata": {},
   "outputs": [
    {
     "data": {
      "text/html": [
       "<div>\n",
       "<style scoped>\n",
       "    .dataframe tbody tr th:only-of-type {\n",
       "        vertical-align: middle;\n",
       "    }\n",
       "\n",
       "    .dataframe tbody tr th {\n",
       "        vertical-align: top;\n",
       "    }\n",
       "\n",
       "    .dataframe thead th {\n",
       "        text-align: right;\n",
       "    }\n",
       "</style>\n",
       "<table border=\"1\" class=\"dataframe\">\n",
       "  <thead>\n",
       "    <tr style=\"text-align: right;\">\n",
       "      <th></th>\n",
       "      <th>Hour</th>\n",
       "      <th>Month</th>\n",
       "      <th>Day</th>\n",
       "      <th>Cell_000111</th>\n",
       "      <th>Cell_000112</th>\n",
       "      <th>Cell_000113</th>\n",
       "      <th>Cell_000231</th>\n",
       "      <th>Cell_000232</th>\n",
       "      <th>Cell_000233</th>\n",
       "      <th>Cell_000461</th>\n",
       "      <th>...</th>\n",
       "      <th>Cell_006662</th>\n",
       "      <th>Cell_006663</th>\n",
       "      <th>Cell_007371</th>\n",
       "      <th>Cell_007372</th>\n",
       "      <th>Cell_007373</th>\n",
       "      <th>Cell_039871</th>\n",
       "      <th>Cell_039872</th>\n",
       "      <th>Cell_039873</th>\n",
       "      <th>2017</th>\n",
       "      <th>2018</th>\n",
       "    </tr>\n",
       "  </thead>\n",
       "  <tbody>\n",
       "    <tr>\n",
       "      <th>0</th>\n",
       "      <td>0.287549</td>\n",
       "      <td>0.818182</td>\n",
       "      <td>0.733333</td>\n",
       "      <td>0</td>\n",
       "      <td>0</td>\n",
       "      <td>0</td>\n",
       "      <td>0</td>\n",
       "      <td>0</td>\n",
       "      <td>0</td>\n",
       "      <td>0</td>\n",
       "      <td>...</td>\n",
       "      <td>0</td>\n",
       "      <td>0</td>\n",
       "      <td>0</td>\n",
       "      <td>0</td>\n",
       "      <td>0</td>\n",
       "      <td>0</td>\n",
       "      <td>0</td>\n",
       "      <td>0</td>\n",
       "      <td>1</td>\n",
       "      <td>0</td>\n",
       "    </tr>\n",
       "    <tr>\n",
       "      <th>1</th>\n",
       "      <td>0.083237</td>\n",
       "      <td>0.818182</td>\n",
       "      <td>0.733333</td>\n",
       "      <td>0</td>\n",
       "      <td>0</td>\n",
       "      <td>0</td>\n",
       "      <td>0</td>\n",
       "      <td>0</td>\n",
       "      <td>0</td>\n",
       "      <td>0</td>\n",
       "      <td>...</td>\n",
       "      <td>0</td>\n",
       "      <td>0</td>\n",
       "      <td>0</td>\n",
       "      <td>0</td>\n",
       "      <td>0</td>\n",
       "      <td>0</td>\n",
       "      <td>0</td>\n",
       "      <td>0</td>\n",
       "      <td>1</td>\n",
       "      <td>0</td>\n",
       "    </tr>\n",
       "    <tr>\n",
       "      <th>2</th>\n",
       "      <td>0.287549</td>\n",
       "      <td>0.818182</td>\n",
       "      <td>0.733333</td>\n",
       "      <td>0</td>\n",
       "      <td>0</td>\n",
       "      <td>0</td>\n",
       "      <td>0</td>\n",
       "      <td>0</td>\n",
       "      <td>0</td>\n",
       "      <td>0</td>\n",
       "      <td>...</td>\n",
       "      <td>0</td>\n",
       "      <td>0</td>\n",
       "      <td>0</td>\n",
       "      <td>0</td>\n",
       "      <td>0</td>\n",
       "      <td>0</td>\n",
       "      <td>0</td>\n",
       "      <td>0</td>\n",
       "      <td>1</td>\n",
       "      <td>0</td>\n",
       "    </tr>\n",
       "    <tr>\n",
       "      <th>3</th>\n",
       "      <td>0.000000</td>\n",
       "      <td>0.818182</td>\n",
       "      <td>0.733333</td>\n",
       "      <td>0</td>\n",
       "      <td>0</td>\n",
       "      <td>0</td>\n",
       "      <td>0</td>\n",
       "      <td>0</td>\n",
       "      <td>0</td>\n",
       "      <td>0</td>\n",
       "      <td>...</td>\n",
       "      <td>0</td>\n",
       "      <td>0</td>\n",
       "      <td>0</td>\n",
       "      <td>0</td>\n",
       "      <td>0</td>\n",
       "      <td>0</td>\n",
       "      <td>0</td>\n",
       "      <td>0</td>\n",
       "      <td>1</td>\n",
       "      <td>0</td>\n",
       "    </tr>\n",
       "    <tr>\n",
       "      <th>4</th>\n",
       "      <td>0.124675</td>\n",
       "      <td>0.818182</td>\n",
       "      <td>0.733333</td>\n",
       "      <td>0</td>\n",
       "      <td>1</td>\n",
       "      <td>0</td>\n",
       "      <td>0</td>\n",
       "      <td>0</td>\n",
       "      <td>0</td>\n",
       "      <td>0</td>\n",
       "      <td>...</td>\n",
       "      <td>0</td>\n",
       "      <td>0</td>\n",
       "      <td>0</td>\n",
       "      <td>0</td>\n",
       "      <td>0</td>\n",
       "      <td>0</td>\n",
       "      <td>0</td>\n",
       "      <td>0</td>\n",
       "      <td>1</td>\n",
       "      <td>0</td>\n",
       "    </tr>\n",
       "  </tbody>\n",
       "</table>\n",
       "<p>5 rows × 62 columns</p>\n",
       "</div>"
      ],
      "text/plain": [
       "       Hour     Month       Day  Cell_000111  Cell_000112  Cell_000113  \\\n",
       "0  0.287549  0.818182  0.733333            0            0            0   \n",
       "1  0.083237  0.818182  0.733333            0            0            0   \n",
       "2  0.287549  0.818182  0.733333            0            0            0   \n",
       "3  0.000000  0.818182  0.733333            0            0            0   \n",
       "4  0.124675  0.818182  0.733333            0            1            0   \n",
       "\n",
       "   Cell_000231  Cell_000232  Cell_000233  Cell_000461  ...  Cell_006662  \\\n",
       "0            0            0            0            0  ...            0   \n",
       "1            0            0            0            0  ...            0   \n",
       "2            0            0            0            0  ...            0   \n",
       "3            0            0            0            0  ...            0   \n",
       "4            0            0            0            0  ...            0   \n",
       "\n",
       "   Cell_006663  Cell_007371  Cell_007372  Cell_007373  Cell_039871  \\\n",
       "0            0            0            0            0            0   \n",
       "1            0            0            0            0            0   \n",
       "2            0            0            0            0            0   \n",
       "3            0            0            0            0            0   \n",
       "4            0            0            0            0            0   \n",
       "\n",
       "   Cell_039872  Cell_039873  2017  2018  \n",
       "0            0            0     1     0  \n",
       "1            0            0     1     0  \n",
       "2            0            0     1     0  \n",
       "3            0            0     1     0  \n",
       "4            0            0     1     0  \n",
       "\n",
       "[5 rows x 62 columns]"
      ]
     },
     "execution_count": 64,
     "metadata": {},
     "output_type": "execute_result"
    }
   ],
   "source": [
    "train_data_Tree.head()"
   ]
  },
  {
   "cell_type": "code",
   "execution_count": 65,
   "metadata": {},
   "outputs": [],
   "source": [
    "train_data_Tree.head(5).to_json('data_after')"
   ]
  },
  {
   "cell_type": "markdown",
   "metadata": {},
   "source": [
    "## Nonlinear models"
   ]
  },
  {
   "cell_type": "code",
   "execution_count": 66,
   "metadata": {},
   "outputs": [],
   "source": [
    "from sklearn.metrics import mean_absolute_error, mean_squared_log_error, mean_absolute_error, r2_score, mean_squared_error\n",
    "from sklearn.ensemble import BaggingRegressor\n",
    "from sklearn.ensemble import RandomForestRegressor\n",
    "from sklearn.ensemble import GradientBoostingRegressor\n",
    "from sklearn.tree import DecisionTreeRegressor\n",
    "from sklearn.model_selection import train_test_split\n",
    "from sklearn.linear_model import LinearRegression\n",
    "from sklearn.svm import LinearSVR\n",
    "from sklearn.linear_model import Lasso, Ridge\n",
    "from sklearn.model_selection import GridSearchCV "
   ]
  },
  {
   "cell_type": "code",
   "execution_count": 67,
   "metadata": {},
   "outputs": [],
   "source": [
    "X_train, X_test, y_train, y_test = train_test_split(train_data_Tree, target_Tree, random_state=42)"
   ]
  },
  {
   "cell_type": "code",
   "execution_count": 68,
   "metadata": {},
   "outputs": [],
   "source": [
    "d = int(train_data_Tree.shape[1]**0.5)"
   ]
  },
  {
   "cell_type": "code",
   "execution_count": 69,
   "metadata": {},
   "outputs": [],
   "source": [
    "bag_reg = BaggingRegressor(DecisionTreeRegressor(random_state=42), n_estimators=500,\n",
    "    max_samples=100, bootstrap=True, n_jobs=-1, random_state=42)\n",
    "rf_reg = BaggingRegressor(DecisionTreeRegressor(max_depth=300, max_features=d, splitter=\"random\", max_leaf_nodes=16, random_state=42),\n",
    "    n_estimators=500, max_samples=1.0, bootstrap=True, n_jobs=-1, random_state=42)\n",
    "gb_reg = GradientBoostingRegressor(max_features=d, n_estimators=200, criterion='friedman_mse')"
   ]
  },
  {
   "cell_type": "code",
   "execution_count": 70,
   "metadata": {},
   "outputs": [
    {
     "name": "stdout",
     "output_type": "stream",
     "text": [
      "Wall time: 45.7 s\n"
     ]
    },
    {
     "data": {
      "text/plain": [
       "BaggingRegressor(base_estimator=DecisionTreeRegressor(random_state=42),\n",
       "                 max_samples=100, n_estimators=500, n_jobs=-1, random_state=42)"
      ]
     },
     "execution_count": 70,
     "metadata": {},
     "output_type": "execute_result"
    }
   ],
   "source": [
    "%%time\n",
    "\n",
    "bag_reg.fit(X_train, y_train)"
   ]
  },
  {
   "cell_type": "code",
   "execution_count": 71,
   "metadata": {},
   "outputs": [
    {
     "name": "stdout",
     "output_type": "stream",
     "text": [
      "Wall time: 1min 32s\n"
     ]
    },
    {
     "data": {
      "text/plain": [
       "BaggingRegressor(base_estimator=DecisionTreeRegressor(max_depth=300,\n",
       "                                                      max_features=7,\n",
       "                                                      max_leaf_nodes=16,\n",
       "                                                      random_state=42,\n",
       "                                                      splitter='random'),\n",
       "                 n_estimators=500, n_jobs=-1, random_state=42)"
      ]
     },
     "execution_count": 71,
     "metadata": {},
     "output_type": "execute_result"
    }
   ],
   "source": [
    "%%time\n",
    "\n",
    "rf_reg.fit(X_train, y_train)"
   ]
  },
  {
   "cell_type": "code",
   "execution_count": 72,
   "metadata": {},
   "outputs": [
    {
     "name": "stdout",
     "output_type": "stream",
     "text": [
      "Wall time: 25.9 s\n"
     ]
    },
    {
     "data": {
      "text/plain": [
       "GradientBoostingRegressor(max_features=7, n_estimators=200)"
      ]
     },
     "execution_count": 72,
     "metadata": {},
     "output_type": "execute_result"
    }
   ],
   "source": [
    "%%time\n",
    "\n",
    "gb_reg.fit(X_train, y_train)"
   ]
  },
  {
   "cell_type": "code",
   "execution_count": 73,
   "metadata": {},
   "outputs": [
    {
     "name": "stdout",
     "output_type": "stream",
     "text": [
      "Bagging RMSE:  1.2764122008240653\n",
      "Random Forest RMSE:  1.4783703704167526\n",
      "Gradient Boosting RMSE:  1.1455584358708766\n"
     ]
    }
   ],
   "source": [
    "print('Bagging RMSE: ', mean_squared_error(y_test, bag_reg.predict(X_test))**0.5)\n",
    "print('Random Forest RMSE: ', mean_squared_error(y_test, rf_reg.predict(X_test))**0.5)\n",
    "print('Gradient Boosting RMSE: ', mean_squared_error(y_test, gb_reg.predict(X_test))**0.5)"
   ]
  },
  {
   "cell_type": "code",
   "execution_count": 74,
   "metadata": {},
   "outputs": [
    {
     "name": "stdout",
     "output_type": "stream",
     "text": [
      "Bagging Determination:  0.5091493710547914\n",
      "Random Forest Determination:  0.34153308610494915\n",
      "Gradient Boosting Determination:  0.6046316012840114\n"
     ]
    }
   ],
   "source": [
    "print('Bagging Determination: ', r2_score(y_test, bag_reg.predict(X_test)))\n",
    "print('Random Forest Determination: ', r2_score(y_test, rf_reg.predict(X_test)))\n",
    "print('Gradient Boosting Determination: ', r2_score(y_test, gb_reg.predict(X_test)))"
   ]
  },
  {
   "cell_type": "code",
   "execution_count": 75,
   "metadata": {},
   "outputs": [
    {
     "name": "stdout",
     "output_type": "stream",
     "text": [
      "Bagging MAE:  0.9778275068331594\n",
      "Random Forest MAE:  1.159771519679763\n",
      "Gradient Boosting MAE:  0.8777884602162797\n"
     ]
    }
   ],
   "source": [
    "print('Bagging MAE: ', mean_absolute_error(y_test, bag_reg.predict(X_test)))\n",
    "print('Random Forest MAE: ', mean_absolute_error(y_test, rf_reg.predict(X_test)))\n",
    "print('Gradient Boosting MAE: ', mean_absolute_error(y_test, gb_reg.predict(X_test)))"
   ]
  },
  {
   "cell_type": "markdown",
   "metadata": {},
   "source": [
    "## Linear models"
   ]
  },
  {
   "cell_type": "code",
   "execution_count": 80,
   "metadata": {},
   "outputs": [],
   "source": [
    "X_trainL, X_testL, y_trainL, y_testL = train_test_split(train_data_Lin, target_Lin, random_state=42)"
   ]
  },
  {
   "cell_type": "code",
   "execution_count": 81,
   "metadata": {},
   "outputs": [],
   "source": [
    "X_trainT, X_testT, y_trainT, y_testT = train_test_split(train_data_Tree, target_Tree, random_state=42)"
   ]
  },
  {
   "cell_type": "code",
   "execution_count": 82,
   "metadata": {},
   "outputs": [],
   "source": [
    "lin = LinearRegression()\n",
    "svm = LinearSVR(epsilon=0.1, C=1)"
   ]
  },
  {
   "cell_type": "code",
   "execution_count": 83,
   "metadata": {},
   "outputs": [
    {
     "name": "stdout",
     "output_type": "stream",
     "text": [
      "Wall time: 1.3 s\n"
     ]
    },
    {
     "data": {
      "text/plain": [
       "LinearRegression()"
      ]
     },
     "execution_count": 83,
     "metadata": {},
     "output_type": "execute_result"
    }
   ],
   "source": [
    "%%time\n",
    "\n",
    "lin.fit(X_trainL, y_trainL)"
   ]
  },
  {
   "cell_type": "code",
   "execution_count": 84,
   "metadata": {},
   "outputs": [
    {
     "name": "stdout",
     "output_type": "stream",
     "text": [
      "Wall time: 5 s\n"
     ]
    },
    {
     "data": {
      "text/plain": [
       "LinearSVR(C=1, epsilon=0.1)"
      ]
     },
     "execution_count": 84,
     "metadata": {},
     "output_type": "execute_result"
    }
   ],
   "source": [
    "%%time\n",
    "\n",
    "svm.fit(X_trainL, y_trainL)"
   ]
  },
  {
   "cell_type": "code",
   "execution_count": 85,
   "metadata": {},
   "outputs": [
    {
     "name": "stdout",
     "output_type": "stream",
     "text": [
      "SVM RMSE:  1.3035575295030248\n",
      "LinReg RMSE:  1.2919049955132238\n"
     ]
    }
   ],
   "source": [
    "print('SVM RMSE: ', mean_squared_error(y_testL, svm.predict(X_testL))**0.5)\n",
    "print('LinReg RMSE: ', mean_squared_error(y_testL, lin.predict(X_testL))**0.5)"
   ]
  },
  {
   "cell_type": "code",
   "execution_count": 86,
   "metadata": {},
   "outputs": [
    {
     "name": "stdout",
     "output_type": "stream",
     "text": [
      "SVM MAE:  0.9880974647743802\n",
      "LinReg MAE:  0.9950293413073205\n"
     ]
    }
   ],
   "source": [
    "print('SVM MAE: ', mean_absolute_error(y_testL, svm.predict(X_testL)))\n",
    "print('LinReg MAE: ', mean_absolute_error(y_testL, lin.predict(X_testL)))"
   ]
  },
  {
   "cell_type": "code",
   "execution_count": 87,
   "metadata": {},
   "outputs": [
    {
     "name": "stdout",
     "output_type": "stream",
     "text": [
      "SVM determination:  0.4880496276779599\n",
      "LinReg determination:  0.49716139454123187\n"
     ]
    }
   ],
   "source": [
    "print('SVM determination: ', r2_score(y_testL, svm.predict(X_testL)))\n",
    "print('LinReg determination: ', r2_score(y_testL, lin.predict(X_testL)))"
   ]
  },
  {
   "cell_type": "code",
   "execution_count": 88,
   "metadata": {},
   "outputs": [],
   "source": [
    "lasso = Lasso()\n",
    "ridge = Ridge()"
   ]
  },
  {
   "cell_type": "code",
   "execution_count": 89,
   "metadata": {},
   "outputs": [
    {
     "data": {
      "text/plain": [
       "Lasso()"
      ]
     },
     "execution_count": 89,
     "metadata": {},
     "output_type": "execute_result"
    }
   ],
   "source": [
    "lasso.fit(X_trainT, y_trainT)"
   ]
  },
  {
   "cell_type": "code",
   "execution_count": 90,
   "metadata": {},
   "outputs": [
    {
     "data": {
      "text/plain": [
       "Ridge()"
      ]
     },
     "execution_count": 90,
     "metadata": {},
     "output_type": "execute_result"
    }
   ],
   "source": [
    "ridge.fit(X_trainT, y_trainT)"
   ]
  },
  {
   "cell_type": "code",
   "execution_count": 91,
   "metadata": {},
   "outputs": [
    {
     "name": "stdout",
     "output_type": "stream",
     "text": [
      "Lasso RMSE:  1.8218764914907122\n",
      "Ridge RMSE:  1.2919054585825263\n"
     ]
    }
   ],
   "source": [
    "print('Lasso RMSE: ', mean_squared_error(y_testT, lasso.predict(X_testT))**0.5)\n",
    "print('Ridge RMSE: ', mean_squared_error(y_testT, ridge.predict(X_testT))**0.5)"
   ]
  },
  {
   "cell_type": "code",
   "execution_count": 92,
   "metadata": {},
   "outputs": [
    {
     "name": "stdout",
     "output_type": "stream",
     "text": [
      "Lasso MAE:  1.4372826928219424\n",
      "Ridge MAE:  0.9950285139295456\n"
     ]
    }
   ],
   "source": [
    "print('Lasso MAE: ', mean_absolute_error(y_testT, lasso.predict(X_testT)))\n",
    "print('Ridge MAE: ', mean_absolute_error(y_testT, ridge.predict(X_testT)))"
   ]
  },
  {
   "cell_type": "code",
   "execution_count": 93,
   "metadata": {},
   "outputs": [
    {
     "name": "stdout",
     "output_type": "stream",
     "text": [
      "Lasso determination:  -1.2254688078749965e-05\n",
      "Ridge determination:  0.4971610340671029\n"
     ]
    }
   ],
   "source": [
    "print('Lasso determination: ', r2_score(y_testT, lasso.predict(X_testT)))\n",
    "print('Ridge determination: ', r2_score(y_testT, ridge.predict(X_testT)))"
   ]
  },
  {
   "cell_type": "code",
   "execution_count": 94,
   "metadata": {},
   "outputs": [],
   "source": [
    "param_grid = {\n",
    "    'fit_intercept':('True', 'False'), \n",
    "    'normalize':('True', 'False'),\n",
    "    'copy_X':('True', 'False')\n",
    "}"
   ]
  },
  {
   "cell_type": "code",
   "execution_count": 95,
   "metadata": {},
   "outputs": [
    {
     "name": "stdout",
     "output_type": "stream",
     "text": [
      "Fitting 3 folds for each of 8 candidates, totalling 24 fits\n"
     ]
    },
    {
     "name": "stderr",
     "output_type": "stream",
     "text": [
      "[Parallel(n_jobs=1)]: Using backend SequentialBackend with 1 concurrent workers.\n",
      "[Parallel(n_jobs=1)]: Done  24 out of  24 | elapsed:   29.4s finished\n"
     ]
    }
   ],
   "source": [
    "lr = LinearRegression()\n",
    "lr_gs = GridSearchCV(lr, param_grid=param_grid, cv=3, verbose=1).fit(X_trainL, y_trainL)"
   ]
  },
  {
   "cell_type": "code",
   "execution_count": 96,
   "metadata": {},
   "outputs": [
    {
     "data": {
      "text/plain": [
       "{'copy_X': 'True', 'fit_intercept': 'True', 'normalize': 'True'}"
      ]
     },
     "execution_count": 96,
     "metadata": {},
     "output_type": "execute_result"
    }
   ],
   "source": [
    "lr_gs.best_params_"
   ]
  },
  {
   "cell_type": "code",
   "execution_count": 97,
   "metadata": {},
   "outputs": [],
   "source": [
    "lr = LinearRegression(copy_X=True, fit_intercept=True, normalize = True)"
   ]
  },
  {
   "cell_type": "code",
   "execution_count": 98,
   "metadata": {},
   "outputs": [
    {
     "data": {
      "text/plain": [
       "LinearRegression(normalize=True)"
      ]
     },
     "execution_count": 98,
     "metadata": {},
     "output_type": "execute_result"
    }
   ],
   "source": [
    "lr.fit(X_trainL, y_trainL)"
   ]
  },
  {
   "cell_type": "code",
   "execution_count": 99,
   "metadata": {},
   "outputs": [
    {
     "name": "stdout",
     "output_type": "stream",
     "text": [
      "LinReg RMSE:  1.2919214857983046\n",
      "LinReg MAE:  0.9949695435247279\n",
      "LinReg determination:  0.4971485576764423\n"
     ]
    }
   ],
   "source": [
    "print('LinReg RMSE: ', mean_squared_error(y_testL, lr.predict(X_testL))**0.5)\n",
    "print('LinReg MAE: ', mean_absolute_error(y_testL, lr.predict(X_testL)))\n",
    "print('LinReg determination: ', r2_score(y_testL, lr.predict(X_testL)))"
   ]
  },
  {
   "cell_type": "code",
   "execution_count": 100,
   "metadata": {},
   "outputs": [],
   "source": [
    "param_grid = {\n",
    "    'tol':[0.001, 0.01],\n",
    "    'C':[1.0, 0.1], \n",
    "    'epsilon':[0.1, 0.001, 0.2]\n",
    "}"
   ]
  },
  {
   "cell_type": "code",
   "execution_count": 101,
   "metadata": {},
   "outputs": [
    {
     "name": "stdout",
     "output_type": "stream",
     "text": [
      "Fitting 3 folds for each of 12 candidates, totalling 36 fits\n"
     ]
    },
    {
     "name": "stderr",
     "output_type": "stream",
     "text": [
      "[Parallel(n_jobs=1)]: Using backend SequentialBackend with 1 concurrent workers.\n",
      "[Parallel(n_jobs=1)]: Done  36 out of  36 | elapsed:  1.2min finished\n"
     ]
    }
   ],
   "source": [
    "svm = LinearSVR(loss='epsilon_insensitive')\n",
    "svm_gs= GridSearchCV(svm, param_grid=param_grid, cv=3, verbose=1).fit(X_trainL, y_trainL)"
   ]
  },
  {
   "cell_type": "code",
   "execution_count": 102,
   "metadata": {},
   "outputs": [
    {
     "data": {
      "text/plain": [
       "{'C': 1.0, 'epsilon': 0.1, 'tol': 0.01}"
      ]
     },
     "execution_count": 102,
     "metadata": {},
     "output_type": "execute_result"
    }
   ],
   "source": [
    "svm_gs.best_params_"
   ]
  },
  {
   "cell_type": "code",
   "execution_count": 103,
   "metadata": {},
   "outputs": [],
   "source": [
    "svm = LinearSVR(C=0.1, epsilon=0.001, tol=0.001)"
   ]
  },
  {
   "cell_type": "code",
   "execution_count": 104,
   "metadata": {},
   "outputs": [
    {
     "data": {
      "text/plain": [
       "LinearSVR(C=0.1, epsilon=0.001, tol=0.001)"
      ]
     },
     "execution_count": 104,
     "metadata": {},
     "output_type": "execute_result"
    }
   ],
   "source": [
    "svm.fit(X_trainL, y_trainL)"
   ]
  },
  {
   "cell_type": "code",
   "execution_count": 105,
   "metadata": {},
   "outputs": [
    {
     "name": "stdout",
     "output_type": "stream",
     "text": [
      "SVM RMSE:  1.305197682108248\n",
      "SVM MAE:  0.9883763476222089\n",
      "SVM determination:  0.4867605323156927\n"
     ]
    }
   ],
   "source": [
    "print('SVM RMSE: ', mean_squared_error(y_testL, svm.predict(X_testL))**0.5)\n",
    "print('SVM MAE: ', mean_absolute_error(y_testL, svm.predict(X_testL)))\n",
    "print('SVM determination: ', r2_score(y_testL, svm.predict(X_testL)))"
   ]
  },
  {
   "cell_type": "markdown",
   "metadata": {},
   "source": [
    "## New models"
   ]
  },
  {
   "cell_type": "markdown",
   "metadata": {},
   "source": [
    "#### Bayes algorithm"
   ]
  },
  {
   "cell_type": "code",
   "execution_count": 106,
   "metadata": {},
   "outputs": [],
   "source": [
    "from sklearn.linear_model import BayesianRidge"
   ]
  },
  {
   "cell_type": "code",
   "execution_count": 107,
   "metadata": {},
   "outputs": [],
   "source": [
    "BayesianRidge = BayesianRidge()"
   ]
  },
  {
   "cell_type": "code",
   "execution_count": 108,
   "metadata": {},
   "outputs": [
    {
     "name": "stdout",
     "output_type": "stream",
     "text": [
      "Wall time: 2.42 s\n"
     ]
    },
    {
     "data": {
      "text/plain": [
       "BayesianRidge()"
      ]
     },
     "execution_count": 108,
     "metadata": {},
     "output_type": "execute_result"
    }
   ],
   "source": [
    "%%time\n",
    "BayesianRidge.fit(X_trainL, y_trainL)"
   ]
  },
  {
   "cell_type": "code",
   "execution_count": 109,
   "metadata": {},
   "outputs": [],
   "source": [
    "prediction = BayesianRidge.predict(X_testL)"
   ]
  },
  {
   "cell_type": "code",
   "execution_count": 110,
   "metadata": {},
   "outputs": [
    {
     "name": "stdout",
     "output_type": "stream",
     "text": [
      "BayesianRidge RMSE:  1.669031105513291\n",
      "BayesianRidge MAE:  0.995031828164862\n",
      "BayesianRidge determination:  0.49715760202894754\n"
     ]
    }
   ],
   "source": [
    "print('BayesianRidge RMSE: ', mean_squared_error(y_testL, prediction))\n",
    "print('BayesianRidge MAE: ', mean_absolute_error(y_testL, prediction))\n",
    "print('BayesianRidge determination: ', r2_score(y_testL, prediction))"
   ]
  },
  {
   "cell_type": "markdown",
   "metadata": {},
   "source": [
    "#### TweedieRegressor"
   ]
  },
  {
   "cell_type": "code",
   "execution_count": 111,
   "metadata": {},
   "outputs": [],
   "source": [
    "from sklearn.linear_model import TweedieRegressor"
   ]
  },
  {
   "cell_type": "code",
   "execution_count": 112,
   "metadata": {},
   "outputs": [],
   "source": [
    "TweedieRegressor = TweedieRegressor(power=1, alpha=0.5)"
   ]
  },
  {
   "cell_type": "code",
   "execution_count": 113,
   "metadata": {},
   "outputs": [
    {
     "data": {
      "text/plain": [
       "TweedieRegressor(alpha=0.5, power=1)"
      ]
     },
     "execution_count": 113,
     "metadata": {},
     "output_type": "execute_result"
    }
   ],
   "source": [
    "TweedieRegressor.fit(X_trainL, y_trainL)"
   ]
  },
  {
   "cell_type": "code",
   "execution_count": 114,
   "metadata": {},
   "outputs": [],
   "source": [
    "prediction = TweedieRegressor.predict(X_testL)"
   ]
  },
  {
   "cell_type": "code",
   "execution_count": 115,
   "metadata": {},
   "outputs": [
    {
     "name": "stdout",
     "output_type": "stream",
     "text": [
      "TweedieRegressor RMSE:  1.5590846899541209\n",
      "TweedieRegressor MAE:  1.219654225361586\n",
      "TweedieRegressor determination:  0.26766992176268556\n"
     ]
    }
   ],
   "source": [
    "print('TweedieRegressor RMSE: ', mean_squared_error(y_testL, prediction)**0.5)\n",
    "print('TweedieRegressor MAE: ', mean_absolute_error(y_testL, prediction))\n",
    "print('TweedieRegressor determination: ', r2_score(y_testL, prediction))"
   ]
  },
  {
   "cell_type": "markdown",
   "metadata": {},
   "source": [
    "#### RANSACRegressor"
   ]
  },
  {
   "cell_type": "code",
   "execution_count": 116,
   "metadata": {},
   "outputs": [],
   "source": [
    "from sklearn.linear_model import RANSACRegressor"
   ]
  },
  {
   "cell_type": "code",
   "execution_count": 117,
   "metadata": {},
   "outputs": [],
   "source": [
    "RANSACRegressor = RANSACRegressor()"
   ]
  },
  {
   "cell_type": "code",
   "execution_count": 118,
   "metadata": {},
   "outputs": [
    {
     "data": {
      "text/plain": [
       "RANSACRegressor()"
      ]
     },
     "execution_count": 118,
     "metadata": {},
     "output_type": "execute_result"
    }
   ],
   "source": [
    "RANSACRegressor.fit(X_trainL, y_trainL)"
   ]
  },
  {
   "cell_type": "code",
   "execution_count": 119,
   "metadata": {},
   "outputs": [],
   "source": [
    "prediction = RANSACRegressor.predict(X_testL)"
   ]
  },
  {
   "cell_type": "code",
   "execution_count": 120,
   "metadata": {},
   "outputs": [
    {
     "name": "stdout",
     "output_type": "stream",
     "text": [
      "RANSACRegressor RMSE:  1.5775661245919945\n",
      "RANSACRegressor MAE:  1.1949649547777224\n",
      "RANSACRegressor determination:  0.25020489269823387\n"
     ]
    }
   ],
   "source": [
    "print('RANSACRegressor RMSE: ', mean_squared_error(y_testL, prediction)**0.5)\n",
    "print('RANSACRegressor MAE: ', mean_absolute_error(y_testL, prediction))\n",
    "print('RANSACRegressor determination: ', r2_score(y_testL, prediction))"
   ]
  },
  {
   "cell_type": "markdown",
   "metadata": {},
   "source": [
    "#### Huber"
   ]
  },
  {
   "cell_type": "code",
   "execution_count": 121,
   "metadata": {},
   "outputs": [],
   "source": [
    "from sklearn.linear_model import HuberRegressor"
   ]
  },
  {
   "cell_type": "code",
   "execution_count": 122,
   "metadata": {},
   "outputs": [],
   "source": [
    "HuberRegressor = HuberRegressor()"
   ]
  },
  {
   "cell_type": "code",
   "execution_count": 123,
   "metadata": {},
   "outputs": [
    {
     "name": "stdout",
     "output_type": "stream",
     "text": [
      "Wall time: 25.7 s\n"
     ]
    },
    {
     "data": {
      "text/plain": [
       "HuberRegressor()"
      ]
     },
     "execution_count": 123,
     "metadata": {},
     "output_type": "execute_result"
    }
   ],
   "source": [
    "%%time\n",
    "HuberRegressor.fit(X_trainL, y_trainL)"
   ]
  },
  {
   "cell_type": "code",
   "execution_count": 124,
   "metadata": {},
   "outputs": [],
   "source": [
    "prediction = HuberRegressor.predict(X_testL)"
   ]
  },
  {
   "cell_type": "code",
   "execution_count": 125,
   "metadata": {},
   "outputs": [
    {
     "name": "stdout",
     "output_type": "stream",
     "text": [
      "HuberRegressor RMSE:  1.6863259349992894\n",
      "HuberRegressor MAE:  0.9885072588895961\n",
      "HuberRegressor determination:  0.4919470499292816\n"
     ]
    }
   ],
   "source": [
    "print('HuberRegressor RMSE: ', mean_squared_error(y_testL, prediction))\n",
    "print('HuberRegressor MAE: ', mean_absolute_error(y_testL, prediction))\n",
    "print('HuberRegressor determination: ', r2_score(y_testL, prediction))"
   ]
  },
  {
   "cell_type": "code",
   "execution_count": 126,
   "metadata": {},
   "outputs": [
    {
     "data": {
      "text/plain": [
       "124386"
      ]
     },
     "execution_count": 126,
     "metadata": {},
     "output_type": "execute_result"
    }
   ],
   "source": [
    "len(X_test.drop_duplicates())"
   ]
  },
  {
   "cell_type": "code",
   "execution_count": 127,
   "metadata": {},
   "outputs": [
    {
     "data": {
      "text/plain": [
       "124386"
      ]
     },
     "execution_count": 127,
     "metadata": {},
     "output_type": "execute_result"
    }
   ],
   "source": [
    "len(X_test)"
   ]
  },
  {
   "cell_type": "code",
   "execution_count": 128,
   "metadata": {},
   "outputs": [
    {
     "data": {
      "text/plain": [
       "373158"
      ]
     },
     "execution_count": 128,
     "metadata": {},
     "output_type": "execute_result"
    }
   ],
   "source": [
    "len(X_train.drop_duplicates())"
   ]
  },
  {
   "cell_type": "code",
   "execution_count": 129,
   "metadata": {},
   "outputs": [
    {
     "data": {
      "text/plain": [
       "373158"
      ]
     },
     "execution_count": 129,
     "metadata": {},
     "output_type": "execute_result"
    }
   ],
   "source": [
    "len(X_train)"
   ]
  }
 ],
 "metadata": {
  "kernelspec": {
   "display_name": "Python 3",
   "language": "python",
   "name": "python3"
  },
  "language_info": {
   "codemirror_mode": {
    "name": "ipython",
    "version": 3
   },
   "file_extension": ".py",
   "mimetype": "text/x-python",
   "name": "python",
   "nbconvert_exporter": "python",
   "pygments_lexer": "ipython3",
   "version": "3.7.3"
  }
 },
 "nbformat": 4,
 "nbformat_minor": 4
}
